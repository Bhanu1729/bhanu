{
 "cells": [
  {
   "cell_type": "markdown",
   "metadata": {},
   "source": [
    "1.Write a python program to read an entire text file"
   ]
  },
  {
   "cell_type": "code",
   "execution_count": 15,
   "metadata": {},
   "outputs": [
    {
     "name": "stdout",
     "output_type": "stream",
     "text": [
      "enter the file name:bhanu.txt\n",
      "Bhanu veera venkta prasad Davuluri\n",
      "rollno: 321810303021\n",
      "sec:c\n",
      "sem:4\n",
      "Gitam \n",
      "Bangalore\n"
     ]
    }
   ],
   "source": [
    "def read(a):\n",
    "        txt = open(a)\n",
    "        print(txt.read())\n",
    "a=input(\"enter the file name:\")\n",
    "read(a)"
   ]
  },
  {
   "cell_type": "markdown",
   "metadata": {},
   "source": [
    "2.Write a python program to read first n lines of a file"
   ]
  },
  {
   "cell_type": "code",
   "execution_count": 29,
   "metadata": {},
   "outputs": [
    {
     "name": "stdout",
     "output_type": "stream",
     "text": [
      "enter the file name:bhanu.txt\n",
      "Python Exercises\n",
      "Java Exercises"
     ]
    }
   ],
   "source": [
    "def readfirst(a, n):\n",
    "        from itertools import islice\n",
    "        with open(a) as f:\n",
    "                for l in islice(f,n):\n",
    "                        print(l,end ='')\n",
    "a=input(\"enter the file name:\")\n",
    "readfirst(a,2)"
   ]
  },
  {
   "cell_type": "markdown",
   "metadata": {},
   "source": [
    "3.Write a Python program to append text to a file and display the text."
   ]
  },
  {
   "cell_type": "code",
   "execution_count": 28,
   "metadata": {},
   "outputs": [
    {
     "name": "stdout",
     "output_type": "stream",
     "text": [
      "Python Exercises\n",
      "Java Exercises\n"
     ]
    }
   ],
   "source": [
    "def read(a):\n",
    "        from itertools import islice\n",
    "        with open(a,\"w\") as file:\n",
    "                file.write(\"Python Exercises\\n\")\n",
    "                file.write(\"Java Exercises\")\n",
    "        txt = open(a)\n",
    "        print(txt.read())\n",
    "read('bhanu.txt')\n"
   ]
  },
  {
   "cell_type": "markdown",
   "metadata": {},
   "source": [
    "4. Write a Python program to read last n lines of a file."
   ]
  },
  {
   "cell_type": "code",
   "execution_count": 23,
   "metadata": {},
   "outputs": [
    {
     "name": "stdout",
     "output_type": "stream",
     "text": [
      "sem:4\n",
      "Gitam \n",
      "Bangalore"
     ]
    }
   ],
   "source": [
    "def LastN(a,n): \n",
    "    with open(a) as file:\n",
    "        for line in (file.readlines() [-n:]): \n",
    "            print(line,end ='')\n",
    "    a = 'bhanu.txt'\n",
    "    n = 3 \n",
    "LastN(a,n) "
   ]
  },
  {
   "cell_type": "markdown",
   "metadata": {},
   "source": [
    "5.Write a Python program to read a file line by line store it into a variable."
   ]
  },
  {
   "cell_type": "code",
   "execution_count": 30,
   "metadata": {},
   "outputs": [
    {
     "name": "stdout",
     "output_type": "stream",
     "text": [
      "enter the file name:bhanu.txt\n",
      "['Python Exercises\\n', 'Java Exercises']\n"
     ]
    }
   ],
   "source": [
    "def read(a):\n",
    "        with open (a) as file:\n",
    "                cse=file.readlines()\n",
    "                print(cse)\n",
    "a=input(\"enter the file name:\")\n",
    "read(a)"
   ]
  },
  {
   "cell_type": "markdown",
   "metadata": {},
   "source": [
    "6.Write a Python program to read a file line by line and store it into a list."
   ]
  },
  {
   "cell_type": "code",
   "execution_count": 31,
   "metadata": {},
   "outputs": [
    {
     "name": "stdout",
     "output_type": "stream",
     "text": [
      "enter the file name:bhanu.txt\n",
      "['Python Exercises\\n', 'Java Exercises']\n"
     ]
    }
   ],
   "source": [
    "def read(a):\n",
    "        with open(a) as file:     \n",
    "                list = file.readlines()\n",
    "                print(list)\n",
    "a=input(\"enter the file name:\")\n",
    "read(a)"
   ]
  },
  {
   "cell_type": "code",
   "execution_count": null,
   "metadata": {},
   "outputs": [],
   "source": []
  }
 ],
 "metadata": {
  "kernelspec": {
   "display_name": "Python 3",
   "language": "python",
   "name": "python3"
  },
  "language_info": {
   "codemirror_mode": {
    "name": "ipython",
    "version": 3
   },
   "file_extension": ".py",
   "mimetype": "text/x-python",
   "name": "python",
   "nbconvert_exporter": "python",
   "pygments_lexer": "ipython3",
   "version": "3.8.3"
  }
 },
 "nbformat": 4,
 "nbformat_minor": 4
}
