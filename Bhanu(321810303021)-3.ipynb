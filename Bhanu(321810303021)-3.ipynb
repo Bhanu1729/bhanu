{
 "cells": [
  {
   "cell_type": "markdown",
   "metadata": {},
   "source": [
    "1.Take two inputs from user and check whether they are equal or not"
   ]
  },
  {
   "cell_type": "code",
   "execution_count": 1,
   "metadata": {},
   "outputs": [
    {
     "name": "stdout",
     "output_type": "stream",
     "text": [
      "Enter the first number:20\n",
      "Enter the second nuber:10\n",
      "input is not equal\n"
     ]
    }
   ],
   "source": [
    "a=input(\"Enter the first number:\")\n",
    "b=input(\"Enter the second nuber:\")\n",
    "if a==b:\n",
    "    print(\"Both inputs are equal\")\n",
    "else:\n",
    "    print(\"input is not equal\")\n",
    "        "
   ]
  },
  {
   "cell_type": "code",
   "execution_count": 2,
   "metadata": {},
   "outputs": [
    {
     "name": "stdout",
     "output_type": "stream",
     "text": [
      "Enter the first number:10\n",
      "Enter the second nuber:10\n",
      "Both inputs are equal\n"
     ]
    }
   ],
   "source": [
    "a=input(\"Enter the first number:\")\n",
    "b=input(\"Enter the second nuber:\")\n",
    "if a==b:\n",
    "    print(\"Both inputs are equal\")\n",
    "else:\n",
    "    print(\"input is not equal\")\n",
    "        "
   ]
  },
  {
   "cell_type": "markdown",
   "metadata": {},
   "source": [
    "2.Take three inputs from user and check:\n",
    "all are equal\n",
    "any of two are equal\n",
    "(use and or)"
   ]
  },
  {
   "cell_type": "code",
   "execution_count": 4,
   "metadata": {},
   "outputs": [
    {
     "name": "stdout",
     "output_type": "stream",
     "text": [
      "enter the first number10\n",
      "enter the second number20\n",
      "enter the third number20\n",
      "All are equal: False\n",
      "Any of two are equal: True\n"
     ]
    }
   ],
   "source": [
    "a=int(input(\"enter the first number\"))\n",
    "b=int(input(\"enter the second number\"))\n",
    "c=int(input(\"enter the third number\"))\n",
    "all = a == b and b == c and c == a\n",
    "print (\"All are equal:\",all)\n",
    "any = a == b or b == c or c == a\n",
    "print (\"Any of two are equal:\",any)"
   ]
  },
  {
   "cell_type": "code",
   "execution_count": 5,
   "metadata": {},
   "outputs": [
    {
     "name": "stdout",
     "output_type": "stream",
     "text": [
      "enter the first number10\n",
      "enter the second number10\n",
      "enter the third number10\n",
      "All are equal: True\n",
      "Any of two are equal: True\n"
     ]
    }
   ],
   "source": [
    "a=int(input(\"enter the first number\"))\n",
    "b=int(input(\"enter the second number\"))\n",
    "c=int(input(\"enter the third number\"))\n",
    "all = a == b and b == c and c == a\n",
    "print (\"All are equal:\",all)\n",
    "any = a == b or b == c or c == a\n",
    "print (\"Any of two are equal:\",any)"
   ]
  },
  {
   "cell_type": "markdown",
   "metadata": {},
   "source": [
    "3.Take two numbers and check whether the sum is greater than 5,less than 5 or equal to 5."
   ]
  },
  {
   "cell_type": "code",
   "execution_count": 6,
   "metadata": {},
   "outputs": [
    {
     "name": "stdout",
     "output_type": "stream",
     "text": [
      "enter a first number1\n",
      "enter a second number2\n",
      "Sum is greater than 5: False\n",
      "Sum is equal to 5: False\n",
      "Sum is lesser than 5: True\n"
     ]
    }
   ],
   "source": [
    "a=int(input(\"enter a first number\"))\n",
    "b=int(input(\"enter a second number\"))\n",
    "sum = a+b\n",
    "print (\"Sum is greater than 5:\",sum>5)\n",
    "print (\"Sum is equal to 5:\",sum==5)\n",
    "print (\"Sum is lesser than 5:\",sum<5)"
   ]
  },
  {
   "cell_type": "code",
   "execution_count": 7,
   "metadata": {},
   "outputs": [
    {
     "name": "stdout",
     "output_type": "stream",
     "text": [
      "enter a first number2\n",
      "enter a second number3\n",
      "Sum is greater than 5: False\n",
      "Sum is equal to 5: True\n",
      "Sum is lesser than 5: False\n"
     ]
    }
   ],
   "source": [
    "a=int(input(\"enter a first number\"))\n",
    "b=int(input(\"enter a second number\"))\n",
    "sum = a+b\n",
    "print (\"Sum is greater than 5:\",sum>5)\n",
    "print (\"Sum is equal to 5:\",sum==5)\n",
    "print (\"Sum is lesser than 5:\",sum<5)"
   ]
  },
  {
   "cell_type": "code",
   "execution_count": 8,
   "metadata": {},
   "outputs": [
    {
     "name": "stdout",
     "output_type": "stream",
     "text": [
      "enter a first number2\n",
      "enter a second number6\n",
      "Sum is greater than 5: True\n",
      "Sum is equal to 5: False\n",
      "Sum is lesser than 5: False\n"
     ]
    }
   ],
   "source": [
    "a=int(input(\"enter a first number\"))\n",
    "b=int(input(\"enter a second number\"))\n",
    "sum = a+b\n",
    "print (\"Sum is greater than 5:\",sum>5)\n",
    "print (\"Sum is equal to 5:\",sum==5)\n",
    "print (\"Sum is lesser than 5:\",sum<5)"
   ]
  },
  {
   "cell_type": "markdown",
   "metadata": {},
   "source": [
    "4.Suppose passing marks of a subject is 35. Take input of marks from user and check whether it is greater than passing marks or not."
   ]
  },
  {
   "cell_type": "code",
   "execution_count": 12,
   "metadata": {},
   "outputs": [
    {
     "name": "stdout",
     "output_type": "stream",
     "text": [
      "enter the marks96\n",
      "Marks is greater than passing marks: True\n"
     ]
    }
   ],
   "source": [
    "passmk = 35\n",
    "marks = int(input(\"enter the marks\"))\n",
    "print (\"Marks is greater than passing marks:\", marks>passmk)"
   ]
  },
  {
   "cell_type": "code",
   "execution_count": 13,
   "metadata": {},
   "outputs": [
    {
     "name": "stdout",
     "output_type": "stream",
     "text": [
      "enter the marks21\n",
      "Marks is greater than passing marks: False\n"
     ]
    }
   ],
   "source": [
    "passmk = 35\n",
    "marks = int(input(\"enter the marks\"))\n",
    "print (\"Marks is greater than passing marks:\", marks>passmk)"
   ]
  },
  {
   "cell_type": "markdown",
   "metadata": {},
   "source": [
    "5.Write a python function to find the max of three numbers"
   ]
  },
  {
   "cell_type": "code",
   "execution_count": 16,
   "metadata": {},
   "outputs": [
    {
     "name": "stdout",
     "output_type": "stream",
     "text": [
      "enter the number1:10\n",
      "enter the number2:20\n",
      "enter the number3:30\n",
      "30\n"
     ]
    }
   ],
   "source": [
    "def maximum(a, b, c): \n",
    "  \n",
    "    if (a >= b) and (a >= c): \n",
    "        largest = a \n",
    "  \n",
    "    elif (b >= a) and (b >= c): \n",
    "        largest = b \n",
    "    else: \n",
    "        largest = c \n",
    "          \n",
    "    return largest   \n",
    "a = input(\"enter the number1:\")\n",
    "b = input(\"enter the number2:\")\n",
    "c = input(\"enter the number3:\")\n",
    "print(maximum(a, b, c))"
   ]
  },
  {
   "cell_type": "code",
   "execution_count": null,
   "metadata": {},
   "outputs": [],
   "source": []
  }
 ],
 "metadata": {
  "kernelspec": {
   "display_name": "Python 3",
   "language": "python",
   "name": "python3"
  },
  "language_info": {
   "codemirror_mode": {
    "name": "ipython",
    "version": 3
   },
   "file_extension": ".py",
   "mimetype": "text/x-python",
   "name": "python",
   "nbconvert_exporter": "python",
   "pygments_lexer": "ipython3",
   "version": "3.8.3"
  }
 },
 "nbformat": 4,
 "nbformat_minor": 4
}
