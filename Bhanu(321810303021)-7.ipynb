{
 "cells": [
  {
   "cell_type": "markdown",
   "metadata": {},
   "source": [
    "1.Generate first N number of Fibonacci numbers. Take N value from user "
   ]
  },
  {
   "cell_type": "code",
   "execution_count": 3,
   "metadata": {},
   "outputs": [
    {
     "name": "stdout",
     "output_type": "stream",
     "text": [
      "enter the number6\n",
      "1  \n",
      "1  \n",
      "2  \n",
      "3  \n",
      "5  \n",
      "8  \n"
     ]
    }
   ],
   "source": [
    "def Fibonacci(n): \n",
    "    f1=0\n",
    "    f2=1\n",
    "    if n<1: \n",
    "        print(\"Incorrect input\")  \n",
    "    for x in range(0, n): \n",
    "        print(f2,\" \") \n",
    "        next = f1 + f2 \n",
    "        f1 = f2 \n",
    "        f2 = next\n",
    "n=int(input(\"enter the number\"))\n",
    "Fibonacci(n)"
   ]
  },
  {
   "cell_type": "markdown",
   "metadata": {},
   "source": [
    "2.Take 10 integers from keyboard using loop and print their average value on the screen "
   ]
  },
  {
   "cell_type": "code",
   "execution_count": 5,
   "metadata": {},
   "outputs": [
    {
     "name": "stdout",
     "output_type": "stream",
     "text": [
      "Input some integers to calculate their average. \n",
      "3\n",
      "3\n",
      "3\n",
      "3\n",
      "3\n",
      "3\n",
      "3\n",
      "3\n",
      "3\n",
      "3\n",
      "Average of the above numbers are:  3.0\n"
     ]
    }
   ],
   "source": [
    "print(\"Input some integers to calculate their average. \")\n",
    "count = 0\n",
    "sum = 0\n",
    "for i in range(0,10):\n",
    "    number = int(input(\"\"))\n",
    "    sum = sum + number\n",
    "    count += 1\n",
    "if count == 0:\n",
    "    print(\"Input some numbers\")\n",
    "else:\n",
    "    print(\"Average of the above numbers are: \", sum / (count))"
   ]
  },
  {
   "cell_type": "markdown",
   "metadata": {},
   "source": [
    "3.Print the   following patterns using loop : \n",
    "     * \n",
    "     ** \n",
    "     *** \n",
    "     **** "
   ]
  },
  {
   "cell_type": "code",
   "execution_count": 8,
   "metadata": {},
   "outputs": [
    {
     "name": "stdout",
     "output_type": "stream",
     "text": [
      "*\n",
      "**\n",
      "***\n",
      "****\n"
     ]
    }
   ],
   "source": [
    "i = 1\n",
    "while i<=4:\n",
    "  print (\"*\"*i)\n",
    "  i = i+1"
   ]
  },
  {
   "cell_type": "markdown",
   "metadata": {},
   "source": [
    "4.Write a program to find the length of the string \"refrigerator\" without using len( ) function. \n"
   ]
  },
  {
   "cell_type": "code",
   "execution_count": 10,
   "metadata": {},
   "outputs": [
    {
     "name": "stdout",
     "output_type": "stream",
     "text": [
      "12\n"
     ]
    }
   ],
   "source": [
    "a = \"refrigerator\"\n",
    "count = 0\n",
    "for i in a:\n",
    "  count = count+1\n",
    "print (count)\n"
   ]
  },
  {
   "cell_type": "markdown",
   "metadata": {},
   "source": [
    "5.Write a Python program to count the number of characters (character frequency) in a string"
   ]
  },
  {
   "cell_type": "code",
   "execution_count": 18,
   "metadata": {},
   "outputs": [
    {
     "name": "stdout",
     "output_type": "stream",
     "text": [
      "enter the string:pack my box with five jugs\n",
      "{'p': 1, 'a': 1, 'c': 1, 'k': 1, ' ': 5, 'm': 1, 'y': 1, 'b': 1, 'o': 1, 'x': 1, 'w': 1, 'i': 2, 't': 1, 'h': 1, 'f': 1, 'v': 1, 'e': 1, 'j': 1, 'u': 1, 'g': 1, 's': 1}\n"
     ]
    }
   ],
   "source": [
    "def charfrequency(str1):\n",
    "    dict = {}\n",
    "    for n in str1:\n",
    "        keys = dict.keys()\n",
    "        if n in keys:\n",
    "            dict[n] += 1\n",
    "        else:\n",
    "            dict[n] = 1\n",
    "    return dict\n",
    "str1=input(\"enter the string:\")\n",
    "print(charfrequency(str1))"
   ]
  },
  {
   "cell_type": "markdown",
   "metadata": {},
   "source": [
    "6.Write a Python script that takes input from the user and displays that input back in upper and lower cases"
   ]
  },
  {
   "cell_type": "code",
   "execution_count": 15,
   "metadata": {},
   "outputs": [
    {
     "name": "stdout",
     "output_type": "stream",
     "text": [
      "enter the name:bhanu\n",
      "My name is  BHANU\n",
      "My name is  bhanu\n"
     ]
    }
   ],
   "source": [
    "userinput = input(\"enter the name:\")\n",
    "print(\"My name is \", userinput.upper())\n",
    "print(\"My name is \", userinput.lower())"
   ]
  },
  {
   "cell_type": "markdown",
   "metadata": {},
   "source": [
    "7.Write a Python program to count occurrences of a substring in a string."
   ]
  },
  {
   "cell_type": "code",
   "execution_count": 17,
   "metadata": {},
   "outputs": [
    {
     "name": "stdout",
     "output_type": "stream",
     "text": [
      "1\n"
     ]
    }
   ],
   "source": [
    "str1 = 'pack my box with five jugs.'\n",
    "print(str1.count('box'))\n"
   ]
  },
  {
   "cell_type": "code",
   "execution_count": null,
   "metadata": {},
   "outputs": [],
   "source": []
  }
 ],
 "metadata": {
  "kernelspec": {
   "display_name": "Python 3",
   "language": "python",
   "name": "python3"
  },
  "language_info": {
   "codemirror_mode": {
    "name": "ipython",
    "version": 3
   },
   "file_extension": ".py",
   "mimetype": "text/x-python",
   "name": "python",
   "nbconvert_exporter": "python",
   "pygments_lexer": "ipython3",
   "version": "3.8.3"
  }
 },
 "nbformat": 4,
 "nbformat_minor": 4
}
