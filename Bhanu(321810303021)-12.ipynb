{
 "cells": [
  {
   "cell_type": "markdown",
   "metadata": {},
   "source": [
    "# 1. what is dictionary in python? Explain with an example?\n",
    "A Dictionary is used to map or associate the things you want to store the keys you need to get them. Dictionary are defined into two elements keys and values.keys will be a single element. \n",
    "\n",
    "\n",
    "example of dictionary:\n",
    "d1={\"apple\":1,\"mango\":2,\"pineapple\":4}\n",
    "apple,mango,banana are keys 1,2,4 are known as values"
   ]
  },
  {
   "cell_type": "markdown",
   "metadata": {},
   "source": [
    "# 2.write a python program to sum all items in a list"
   ]
  },
  {
   "cell_type": "code",
   "execution_count": 2,
   "metadata": {},
   "outputs": [
    {
     "name": "stdout",
     "output_type": "stream",
     "text": [
      "sum of elements in the list is: 147\n"
     ]
    }
   ],
   "source": [
    "sum=0\n",
    "l=[12,21,5,67,32,10]\n",
    "for i in  range(0,len(l)):\n",
    "    sum=sum+l[i]\n",
    "print(\"sum of elements in the list is:\",sum)"
   ]
  },
  {
   "cell_type": "markdown",
   "metadata": {},
   "source": [
    "# 3.write a python program to create a list of empty dictionaries."
   ]
  },
  {
   "cell_type": "code",
   "execution_count": 3,
   "metadata": {},
   "outputs": [
    {
     "name": "stdout",
     "output_type": "stream",
     "text": [
      "[{}, {}, {}]\n"
     ]
    }
   ],
   "source": [
    "n=3\n",
    "l=[{} for _ in range(n)]\n",
    "print(l)"
   ]
  },
  {
   "cell_type": "markdown",
   "metadata": {},
   "source": [
    "# 4.write a python program to access dictionary keys element by index."
   ]
  },
  {
   "cell_type": "code",
   "execution_count": 5,
   "metadata": {},
   "outputs": [
    {
     "name": "stdout",
     "output_type": "stream",
     "text": [
      "original dictionary is:{'bhanu': 21, 'alekhya': 32, 'harika': 36, 'theju': 5}\n",
      "key values are:\n",
      "bhanu\n",
      "alekhya\n",
      "harika\n",
      "theju\n"
     ]
    }
   ],
   "source": [
    "l={\"bhanu\":21,\"alekhya\":32,\"harika\":36,\"theju\":5}\n",
    "print(\"original dictionary is:\"+str(l))\n",
    "print(\"key values are:\")\n",
    "for i in l:\n",
    "    print(i)"
   ]
  },
  {
   "cell_type": "markdown",
   "metadata": {},
   "source": [
    "# 5.python program to iterate over dictionaries using for loop."
   ]
  },
  {
   "cell_type": "code",
   "execution_count": 6,
   "metadata": {},
   "outputs": [
    {
     "name": "stdout",
     "output_type": "stream",
     "text": [
      "alekhya 32\n",
      "bhanu 21\n",
      "harika 36\n",
      "theju 5\n"
     ]
    }
   ],
   "source": [
    "d1={\"alekhya\":32,\"bhanu\":21,\"harika\":36,\"theju\":5}\n",
    "for k,v in d1.items():\n",
    "    print(k,v)"
   ]
  },
  {
   "cell_type": "markdown",
   "metadata": {},
   "source": [
    "# 6.python program to sum all items in the dictionary."
   ]
  },
  {
   "cell_type": "code",
   "execution_count": 7,
   "metadata": {},
   "outputs": [
    {
     "name": "stdout",
     "output_type": "stream",
     "text": [
      "sum of items in the dictionary: 35\n"
     ]
    }
   ],
   "source": [
    "def sum(d2):\n",
    "    sum=0\n",
    "    for i in d2:\n",
    "        sum=sum+d2[i]\n",
    "    return sum\n",
    "d2={\"a\":12,\"b\":8,\"c\":15}\n",
    "print(\"sum of items in the dictionary:\",sum(d2))"
   ]
  },
  {
   "cell_type": "markdown",
   "metadata": {},
   "source": [
    "# 7.write a python script to concatenate the following dictionaries to create a new one.\n",
    "sample dictionary\n",
    "dic1={1:10,2:20}\n",
    "dic2={3:30,4:40}\n",
    "dic3={5:50,6:60}\n",
    "\n",
    "\n",
    "Expected Result : {1: 10, 2: 20, 3: 30, 4: 40, 5: 50, 6: 60} \n"
   ]
  },
  {
   "cell_type": "code",
   "execution_count": 8,
   "metadata": {},
   "outputs": [
    {
     "name": "stdout",
     "output_type": "stream",
     "text": [
      "{1: 10, 2: 20, 3: 30, 4: 40, 5: 50, 6: 60}\n"
     ]
    }
   ],
   "source": [
    "dic1={1:10,2:20}\n",
    "dic2={3:30,4:40}\n",
    "dic3={5:50,6:60}\n",
    "dic4={}\n",
    "for d in (dic1,dic2,dic3):\n",
    "    dic4.update(d)\n",
    "print(dic4)"
   ]
  },
  {
   "cell_type": "code",
   "execution_count": null,
   "metadata": {},
   "outputs": [],
   "source": []
  }
 ],
 "metadata": {
  "kernelspec": {
   "display_name": "Python 3",
   "language": "python",
   "name": "python3"
  },
  "language_info": {
   "codemirror_mode": {
    "name": "ipython",
    "version": 3
   },
   "file_extension": ".py",
   "mimetype": "text/x-python",
   "name": "python",
   "nbconvert_exporter": "python",
   "pygments_lexer": "ipython3",
   "version": "3.8.3"
  }
 },
 "nbformat": 4,
 "nbformat_minor": 4
}
