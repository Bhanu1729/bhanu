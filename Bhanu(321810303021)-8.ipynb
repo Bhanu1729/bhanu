{
 "cells": [
  {
   "cell_type": "markdown",
   "metadata": {},
   "source": [
    "1.Write a Python program to get a single string from two given strings, separated by a space and swap the first two characters of each string"
   ]
  },
  {
   "cell_type": "code",
   "execution_count": 4,
   "metadata": {},
   "outputs": [
    {
     "name": "stdout",
     "output_type": "stream",
     "text": [
      "enter the a string:bhanu\n",
      "enter the b string:prasad\n",
      "pranu bhasad\n"
     ]
    }
   ],
   "source": [
    "def chars(a, b):\n",
    "  newa = b[:2] + a[2:]\n",
    "  newb = a[:2] + b[2:]\n",
    "\n",
    "  return newa + ' ' + newb\n",
    "a=input(\"enter the a string:\")\n",
    "b=input(\"enter the b string:\")\n",
    "print(chars(a,b))"
   ]
  },
  {
   "cell_type": "markdown",
   "metadata": {},
   "source": [
    "2.Write a Python program to remove a newline in Python."
   ]
  },
  {
   "cell_type": "code",
   "execution_count": 5,
   "metadata": {},
   "outputs": [
    {
     "name": "stdout",
     "output_type": "stream",
     "text": [
      "Bhanu prasad\n",
      "\n",
      "Bhanu prasad\n"
     ]
    }
   ],
   "source": [
    "str1='Bhanu prasad\\n'\n",
    "print(str1)\n",
    "print(str1.rstrip())"
   ]
  },
  {
   "cell_type": "markdown",
   "metadata": {},
   "source": [
    "3.Write a Python program to perform Deletion of a character "
   ]
  },
  {
   "cell_type": "code",
   "execution_count": 6,
   "metadata": {},
   "outputs": [
    {
     "name": "stdout",
     "output_type": "stream",
     "text": [
      "enter the string:davuluri\n",
      "dvuluri\n"
     ]
    }
   ],
   "source": [
    "s = input(\"enter the string:\")\n",
    "\n",
    "print(s.replace('a', ''))"
   ]
  },
  {
   "cell_type": "markdown",
   "metadata": {},
   "source": [
    "4.Write a program to print every character of a string entered by user in a new line using loop. "
   ]
  },
  {
   "cell_type": "code",
   "execution_count": 8,
   "metadata": {},
   "outputs": [
    {
     "name": "stdout",
     "output_type": "stream",
     "text": [
      "enter the string:bhanu\n",
      "b\n",
      "h\n",
      "a\n",
      "n\n",
      "u\n"
     ]
    }
   ],
   "source": [
    "a=input(\"enter the string:\")\n",
    "for i in a :\n",
    "    print(i)"
   ]
  },
  {
   "cell_type": "code",
   "execution_count": null,
   "metadata": {},
   "outputs": [],
   "source": []
  }
 ],
 "metadata": {
  "kernelspec": {
   "display_name": "Python 3",
   "language": "python",
   "name": "python3"
  },
  "language_info": {
   "codemirror_mode": {
    "name": "ipython",
    "version": 3
   },
   "file_extension": ".py",
   "mimetype": "text/x-python",
   "name": "python",
   "nbconvert_exporter": "python",
   "pygments_lexer": "ipython3",
   "version": "3.8.3"
  }
 },
 "nbformat": 4,
 "nbformat_minor": 4
}
