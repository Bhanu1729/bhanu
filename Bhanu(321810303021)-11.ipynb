{
 "cells": [
  {
   "cell_type": "markdown",
   "metadata": {},
   "source": [
    "1.Write a Python program to sum all the items ina list."
   ]
  },
  {
   "cell_type": "code",
   "execution_count": 12,
   "metadata": {},
   "outputs": [
    {
     "name": "stdout",
     "output_type": "stream",
     "text": [
      "18\n"
     ]
    }
   ],
   "source": [
    "def sumlist(a):\n",
    "    sum1 = 0\n",
    "    for x in a:\n",
    "        sum1 += x\n",
    "    return sum1\n",
    "print(sumlist([1,4,6,7]))"
   ]
  },
  {
   "cell_type": "markdown",
   "metadata": {},
   "source": [
    "2.Write a python program to multiplies all the items in a list."
   ]
  },
  {
   "cell_type": "code",
   "execution_count": 13,
   "metadata": {},
   "outputs": [
    {
     "name": "stdout",
     "output_type": "stream",
     "text": [
      "3780\n"
     ]
    }
   ],
   "source": [
    "def multiply(a):  \n",
    "    mul = 1\n",
    "    for x in a:\n",
    "        mul *= x  \n",
    "    return mul \n",
    "print(multiply((4,5,7,9,3)))"
   ]
  },
  {
   "cell_type": "markdown",
   "metadata": {},
   "source": [
    "3.Write a python program to get the largest & smallest number from a list."
   ]
  },
  {
   "cell_type": "code",
   "execution_count": 15,
   "metadata": {},
   "outputs": [
    {
     "name": "stdout",
     "output_type": "stream",
     "text": [
      "Maximum element in the list is : 9 \n",
      "Minimum element in the list is : 1\n"
     ]
    }
   ],
   "source": [
    "a=[1,2,3,5,3,9]\n",
    "print(\"Maximum element in the list is :\", max(a), \"\\nMinimum element in the list is :\", min(a))"
   ]
  },
  {
   "cell_type": "markdown",
   "metadata": {},
   "source": [
    "4.Write a python program to remove duplicates from a list."
   ]
  },
  {
   "cell_type": "code",
   "execution_count": 17,
   "metadata": {},
   "outputs": [
    {
     "name": "stdout",
     "output_type": "stream",
     "text": [
      "[10, 20, 30, 50, 60, 40, 80]\n"
     ]
    }
   ],
   "source": [
    "a=[10,20,30,20,10,50,60,40,80,50,40]\n",
    "\n",
    "dup = set()\n",
    "uniq = []\n",
    "for x in a:\n",
    "    if x not in dup:\n",
    "        uniq.append(x)\n",
    "        dup.add(x)\n",
    "\n",
    "print(uniq)"
   ]
  },
  {
   "cell_type": "markdown",
   "metadata": {},
   "source": [
    "5.Write a python to check a list is empty or not."
   ]
  },
  {
   "cell_type": "code",
   "execution_count": 25,
   "metadata": {},
   "outputs": [
    {
     "name": "stdout",
     "output_type": "stream",
     "text": [
      "list is not empty\n",
      "List is empty\n"
     ]
    }
   ],
   "source": [
    "def empty(l):\n",
    "    if not l:\n",
    "      print(\"List is empty\")\n",
    "    else:\n",
    "        print(\"list is not empty\")\n",
    "empty([1,2,4,5,6,7])\n",
    "empty([])"
   ]
  },
  {
   "cell_type": "markdown",
   "metadata": {},
   "source": [
    "6.Write a python program to clone or copy a list."
   ]
  },
  {
   "cell_type": "code",
   "execution_count": 26,
   "metadata": {},
   "outputs": [
    {
     "name": "stdout",
     "output_type": "stream",
     "text": [
      "[20, 3, 4, 5, 6, 8]\n",
      "[20, 3, 4, 5, 6, 8]\n"
     ]
    }
   ],
   "source": [
    "original = [20,3,4,5,6,8]\n",
    "new = list(original)\n",
    "print(original)\n",
    "print(new)"
   ]
  },
  {
   "cell_type": "markdown",
   "metadata": {},
   "source": [
    "7.Write a Python program to print a specified list after removing the 0th,4th,5th elements"
   ]
  },
  {
   "cell_type": "code",
   "execution_count": 35,
   "metadata": {},
   "outputs": [
    {
     "name": "stdout",
     "output_type": "stream",
     "text": [
      "['Green', 'White', 'Black']\n"
     ]
    }
   ],
   "source": [
    "l= ['Red', 'Green', 'White', 'Black', 'Pink', 'Yellow']\n",
    "l= [x for (i,x) in enumerate(l) if i not in (0,4,5)]\n",
    "print(l)"
   ]
  },
  {
   "cell_type": "markdown",
   "metadata": {},
   "source": [
    "8.Write a python program to print the numbers of a specified list after removing even number form it."
   ]
  },
  {
   "cell_type": "code",
   "execution_count": 37,
   "metadata": {},
   "outputs": [
    {
     "name": "stdout",
     "output_type": "stream",
     "text": [
      "[1, 3, 5, 7, 9]\n"
     ]
    }
   ],
   "source": [
    "a = [0,1,2,3,4,5,6,7,8,9,10]\n",
    "a = [x for x in a if x%2!=0]\n",
    "print(a)"
   ]
  },
  {
   "cell_type": "markdown",
   "metadata": {},
   "source": [
    "9.Write a Python program to shuffle and print a specified list."
   ]
  },
  {
   "cell_type": "code",
   "execution_count": 38,
   "metadata": {},
   "outputs": [
    {
     "name": "stdout",
     "output_type": "stream",
     "text": [
      "[99, 1, 45, 78, 3, 56]\n"
     ]
    }
   ],
   "source": [
    "from random import shuffle\n",
    "a = [1,3,45,56,78,99]\n",
    "shuffle(a)\n",
    "print(a)"
   ]
  },
  {
   "cell_type": "markdown",
   "metadata": {},
   "source": [
    "10.Write a Python program to get the difference between the two lists. "
   ]
  },
  {
   "cell_type": "code",
   "execution_count": 40,
   "metadata": {},
   "outputs": [
    {
     "name": "stdout",
     "output_type": "stream",
     "text": [
      "[8, 2, 6, 1, 43, 4]\n"
     ]
    }
   ],
   "source": [
    "l1 = [2,5,6,8,3]\n",
    "l2=[1,5,3,43,4]\n",
    "diff1 = list(set(l1) - set(l2))\n",
    "diff2= list(set(l2) - set(l1))\n",
    "total = diff1 + diff2\n",
    "print(total)"
   ]
  },
  {
   "cell_type": "code",
   "execution_count": null,
   "metadata": {},
   "outputs": [],
   "source": []
  }
 ],
 "metadata": {
  "kernelspec": {
   "display_name": "Python 3",
   "language": "python",
   "name": "python3"
  },
  "language_info": {
   "codemirror_mode": {
    "name": "ipython",
    "version": 3
   },
   "file_extension": ".py",
   "mimetype": "text/x-python",
   "name": "python",
   "nbconvert_exporter": "python",
   "pygments_lexer": "ipython3",
   "version": "3.8.3"
  }
 },
 "nbformat": 4,
 "nbformat_minor": 4
}
